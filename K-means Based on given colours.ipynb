{
 "cells": [
  {
   "cell_type": "code",
   "execution_count": 14,
   "id": "dd88f14a",
   "metadata": {},
   "outputs": [],
   "source": [
    "import matplotlib.pyplot as plt\n",
    "import numpy as np\n",
    "import cv2"
   ]
  },
  {
   "cell_type": "code",
   "execution_count": 37,
   "id": "4ab43c51",
   "metadata": {},
   "outputs": [
    {
     "name": "stdout",
     "output_type": "stream",
     "text": [
      "(391, 281, 3)\n"
     ]
    }
   ],
   "source": [
    "im =  cv2.imread('nucleus.jpeg') # Reads an image into BGR Format\n",
    "\n",
    "im = cv2.cvtColor(im,cv2.COLOR_BGR2RGB)\n",
    "original_shape = im.shape\n",
    "print(im.shape)"
   ]
  },
  {
   "cell_type": "code",
   "execution_count": 38,
   "id": "64e8c709",
   "metadata": {},
   "outputs": [
    {
     "data": {
      "image/png": "[encoded data removed]",
      "text/plain": [
       "<Figure size 432x288 with 1 Axes>"
      ]
     },
     "metadata": {
      "needs_background": "light"
     },
     "output_type": "display_data"
    }
   ],
   "source": [
    "plt.imshow(im) \n",
    "plt.show()"
   ]
  },
  {
   "cell_type": "code",
   "execution_count": 39,
   "id": "36db0e89",
   "metadata": {},
   "outputs": [
    {
     "name": "stdout",
     "output_type": "stream",
     "text": [
      "(109871, 3)\n"
     ]
    }
   ],
   "source": [
    "# Flatten Each channel of the Image\n",
    "all_pixels  = im.reshape((-1,3))\n",
    "print(all_pixels.shape)"
   ]
  },
  {
   "cell_type": "code",
   "execution_count": 40,
   "id": "19af7fea",
   "metadata": {},
   "outputs": [
    {
     "data": {
      "text/plain": [
       "KMeans(n_clusters=4)"
      ]
     },
     "execution_count": 40,
     "metadata": {},
     "output_type": "execute_result"
    }
   ],
   "source": [
    "from sklearn.cluster import KMeans\n",
    "dominant_colors = 4\n",
    "\n",
    "km = KMeans(n_clusters=dominant_colors)\n",
    "km.fit(all_pixels)"
   ]
  },
  {
   "cell_type": "code",
   "execution_count": 41,
   "id": "f51f45b3",
   "metadata": {},
   "outputs": [
    {
     "name": "stdout",
     "output_type": "stream",
     "text": [
      "[[1.49453491e-02 1.01918474e-13 3.92352591e-01]\n",
      " [2.36741688e+02 2.49388747e+02 2.49327366e+02]\n",
      " [4.44089210e-15 1.65983380e+00 5.62249307e+01]\n",
      " [2.03843373e+02 1.30927711e+02 4.43373494e+01]]\n"
     ]
    }
   ],
   "source": [
    "centers = km.cluster_centers_\n",
    "print(centers) # In RGB Format"
   ]
  },
  {
   "cell_type": "code",
   "execution_count": 42,
   "id": "2c88c2e3",
   "metadata": {},
   "outputs": [
    {
     "name": "stdout",
     "output_type": "stream",
     "text": [
      "[[  0   0   0]\n",
      " [236 249 249]\n",
      " [  0   1  56]\n",
      " [203 130  44]]\n"
     ]
    }
   ],
   "source": [
    "# Convert to Integer format\n",
    "centers = np.array(centers,dtype='uint8')\n",
    "print(centers)"
   ]
  },
  {
   "cell_type": "code",
   "execution_count": 43,
   "id": "daa7a535",
   "metadata": {},
   "outputs": [
    {
     "data": {
      "image/png": "[encoded data removed]",
      "text/plain": [
       "<Figure size 576x144 with 4 Axes>"
      ]
     },
     "metadata": {
      "needs_background": "light"
     },
     "output_type": "display_data"
    }
   ],
   "source": [
    "i = 1\n",
    "\n",
    "plt.figure(0,figsize=(8,2))\n",
    "\n",
    "# Storing info in color array\n",
    "colors = []\n",
    "\n",
    "for each_col in centers:\n",
    "    plt.subplot(1,4,i)\n",
    "    plt.axis(\"off\")\n",
    "    i+=1\n",
    "    \n",
    "    colors.append(each_col)\n",
    "    \n",
    "    # Color Swatch\n",
    "    a = np.zeros((100,100,3),dtype='uint8')\n",
    "    a[:,:,:] = each_col\n",
    "    plt.imshow(a)\n",
    "    \n",
    "plt.show()"
   ]
  },
  {
   "cell_type": "code",
   "execution_count": 48,
   "id": "060f395a",
   "metadata": {},
   "outputs": [
    {
     "name": "stdout",
     "output_type": "stream",
     "text": [
      "(109871, 3)\n"
     ]
    }
   ],
   "source": [
    "new_img = np.zeros((391*281,3),dtype='uint8')\n",
    "print(new_img.shape)"
   ]
  },
  {
   "cell_type": "code",
   "execution_count": 49,
   "id": "b243ba3b",
   "metadata": {},
   "outputs": [
    {
     "data": {
      "text/plain": [
       "[array([0, 0, 0], dtype=uint8),\n",
       " array([236, 249, 249], dtype=uint8),\n",
       " array([ 0,  1, 56], dtype=uint8),\n",
       " array([203, 130,  44], dtype=uint8)]"
      ]
     },
     "execution_count": 49,
     "metadata": {},
     "output_type": "execute_result"
    }
   ],
   "source": [
    "colors"
   ]
  },
  {
   "cell_type": "code",
   "execution_count": 50,
   "id": "5f0a3846",
   "metadata": {},
   "outputs": [
    {
     "data": {
      "text/plain": [
       "array([0, 0, 0, ..., 0, 0, 0])"
      ]
     },
     "execution_count": 50,
     "metadata": {},
     "output_type": "execute_result"
    }
   ],
   "source": [
    "km.labels_"
   ]
  },
  {
   "cell_type": "code",
   "execution_count": 51,
   "id": "66108a29",
   "metadata": {},
   "outputs": [
    {
     "data": {
      "image/png": "[encoded data removed]",
      "text/plain": [
       "<Figure size 432x288 with 1 Axes>"
      ]
     },
     "metadata": {
      "needs_background": "light"
     },
     "output_type": "display_data"
    }
   ],
   "source": [
    "# Iterate over the image\n",
    "for ix in range(new_img.shape[0]):\n",
    "    new_img[ix] = colors[km.labels_[ix]]\n",
    "    \n",
    "new_img = new_img.reshape((original_shape))\n",
    "plt.imshow(new_img)\n",
    "plt.show()"
   ]
  },
  {
   "cell_type": "code",
   "execution_count": null,
   "id": "f888dee9",
   "metadata": {},
   "outputs": [],
   "source": []
  },
  {
   "cell_type": "code",
   "execution_count": null,
   "id": "8334597e",
   "metadata": {},
   "outputs": [],
   "source": []
  }
 ],
 "metadata": {
  "kernelspec": {
   "display_name": "Python 3 (ipykernel)",
   "language": "python",
   "name": "python3"
  },
  "language_info": {
   "codemirror_mode": {
    "name": "ipython",
    "version": 3
   },
   "file_extension": ".py",
   "mimetype": "text/x-python",
   "name": "python",
   "nbconvert_exporter": "python",
   "pygments_lexer": "ipython3",
   "version": "3.9.5"
  }
 },
 "nbformat": 4,
 "nbformat_minor": 5
}
